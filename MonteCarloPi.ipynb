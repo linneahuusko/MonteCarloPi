{
 "cells": [
  {
   "cell_type": "markdown",
   "id": "96c6a467-6ca6-41fd-becd-58bc211fa2ca",
   "metadata": {},
   "source": [
    "# Calculating pi using Monte Carlo methods"
   ]
  },
  {
   "cell_type": "markdown",
   "id": "878a3d05-ab7e-4b37-a138-734e0d9b4707",
   "metadata": {},
   "source": [
    "## Relevant formulas\n",
    "\n",
    "- square area: $s = (2 r)^2$\n",
    "- circle area: $c = \\pi r^2$\n",
    "- $c/s = (\\pi r^2) / (4 r^2) = \\pi / 4$\n",
    "- $\\pi = 4 * c/s$"
   ]
  },
  {
   "cell_type": "markdown",
   "id": "ae783ff0-63b0-4ac8-bdf5-ab1e440de3ca",
   "metadata": {},
   "source": [
    "## Image to visualize the concept\n",
    "\n",
    "![Darts](https://raw.githubusercontent.com/coderefinery/jupyter/main/example/darts.svg)"
   ]
  },
  {
   "cell_type": "code",
   "execution_count": 2,
   "id": "adb2e045-cc8d-4238-93ad-92a8eee81ea4",
   "metadata": {},
   "outputs": [],
   "source": [
    "# importing modules that we will need\n",
    "\n",
    "import random\n",
    "import matplotlib.pyplot as plt"
   ]
  },
  {
   "cell_type": "code",
   "execution_count": 31,
   "id": "03ef5bd3-f7a5-47af-8b0b-149a4dbc4e8c",
   "metadata": {
    "tags": []
   },
   "outputs": [],
   "source": [
    "# initializing the number of \"throws\"\n",
    "\n",
    "num_points = 1000000"
   ]
  },
  {
   "cell_type": "code",
   "execution_count": 32,
   "id": "37448e86-31dc-4c53-b675-f95d976e22cf",
   "metadata": {
    "tags": []
   },
   "outputs": [],
   "source": [
    "# here we \"throw darts\" and count the number of hits\n",
    "\n",
    "points = []\n",
    "hits = 0\n",
    "for _ in range(num_points):\n",
    "    x, y = random.random(), random.random()\n",
    "    if x*x + y*y < 1.0:\n",
    "        hits += 1\n",
    "        points.append((x, y, \"magenta\"))\n",
    "    else:\n",
    "        points.append((x, y, \"black\"))"
   ]
  },
  {
   "cell_type": "code",
   "execution_count": 33,
   "id": "21e8c155-7908-4a88-923b-f0bdebed2dee",
   "metadata": {},
   "outputs": [
    {
     "data": {
      "text/plain": [
       "<matplotlib.collections.PathCollection at 0x7fe9780409a0>"
      ]
     },
     "execution_count": 33,
     "metadata": {},
     "output_type": "execute_result"
    },
    {
     "data": {
      "image/png": "[encoded data removed]",
      "text/plain": [
       "<Figure size 432x432 with 1 Axes>"
      ]
     },
     "metadata": {
      "needs_background": "light"
     },
     "output_type": "display_data"
    }
   ],
   "source": [
    "# unzip points into 3 lists\n",
    "x, y, colors = zip(*points)\n",
    "\n",
    "# define figure dimensions\n",
    "fig, ax = plt.subplots()\n",
    "fig.set_size_inches(6.0, 6.0)\n",
    "\n",
    "# plot results\n",
    "ax.scatter(x, y, c=colors)"
   ]
  },
  {
   "cell_type": "code",
   "execution_count": 34,
   "id": "0fa1451a-05da-4ee7-a0c8-24d9894619a9",
   "metadata": {},
   "outputs": [
    {
     "data": {
      "text/plain": [
       "3.144716"
      ]
     },
     "execution_count": 34,
     "metadata": {},
     "output_type": "execute_result"
    }
   ],
   "source": [
    "# compute and print the estimate\n",
    "\n",
    "fraction = hits / num_points\n",
    "4 * fraction"
   ]
  },
  {
   "cell_type": "code",
   "execution_count": null,
   "id": "978027df-06d8-4c2a-80f2-d64ba3367b34",
   "metadata": {},
   "outputs": [],
   "source": []
  }
 ],
 "metadata": {
  "kernelspec": {
   "display_name": "Python 3 (ipykernel)",
   "language": "python",
   "name": "python3"
  },
  "language_info": {
   "codemirror_mode": {
    "name": "ipython",
    "version": 3
   },
   "file_extension": ".py",
   "mimetype": "text/x-python",
   "name": "python",
   "nbconvert_exporter": "python",
   "pygments_lexer": "ipython3",
   "version": "3.9.12"
  }
 },
 "nbformat": 4,
 "nbformat_minor": 5
}
